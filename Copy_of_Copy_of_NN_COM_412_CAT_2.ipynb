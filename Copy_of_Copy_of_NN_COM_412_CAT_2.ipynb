{
  "nbformat": 4,
  "nbformat_minor": 0,
  "metadata": {
    "colab": {
      "provenance": [],
      "include_colab_link": true
    },
    "kernelspec": {
      "name": "python3",
      "display_name": "Python 3"
    },
    "language_info": {
      "name": "python"
    }
  },
  "cells": [
    {
      "cell_type": "markdown",
      "metadata": {
        "id": "view-in-github",
        "colab_type": "text"
      },
      "source": [
        "<a href=\"https://colab.research.google.com/github/Ramseyjava/Airflight-Booking/blob/login/Copy_of_Copy_of_NN_COM_412_CAT_2.ipynb\" target=\"_parent\"><img src=\"https://colab.research.google.com/assets/colab-badge.svg\" alt=\"Open In Colab\"/></a>"
      ]
    },
    {
      "cell_type": "code",
      "execution_count": null,
      "metadata": {
        "id": "4u9fAqhOUU6X"
      },
      "outputs": [],
      "source": []
    },
    {
      "cell_type": "markdown",
      "source": [
        "NAME: MARTIN MURIMI KINYUA \n",
        "\n",
        "ADM NO: CSC/063/2019\n",
        "\n",
        "COURSE TITLE: NEURAL NETWORKS\n",
        "\n",
        "COURSE CODE: COM 412"
      ],
      "metadata": {
        "id": "zD4kyYT7UhmV"
      }
    },
    {
      "cell_type": "code",
      "source": [
        "\n",
        "# Lists\n",
        "import numpy as np\n",
        "from scipy import stats\n",
        "import matplotlib.pyplot as plt\n",
        "import pandas as pd\n",
        "import seaborn as sns\n",
        "\n",
        "x = [15, 60, 99, 33, 154, 73, 27, 125, 55, 95,69, 350, 89, 30, 48, 63, 142, 57, 5, 250, 80, 7, 59]\n",
        "\n",
        "\n",
        "\n",
        "# Finding number of elements in the list\n",
        "len ( x )\n",
        "size = len(x)\n",
        "print ( \"No. of elements: \" , size)\n",
        "\n",
        "\n",
        "\n",
        "# Sorting in descending order\n",
        "x.sort( reverse = True)\n",
        "print (\"Descending: \", x )\n",
        "\n",
        "\n",
        "\n",
        "# Calculating Mean, Median and Mode\n",
        "\n",
        "# Mean\n",
        "print(\"\\nMean: \", np.mean(x))\n",
        " \n",
        "# Median\n",
        "print (\"Median: \", np.median(x))\n",
        " \n",
        "# Mode\n",
        "print (stats.mode(x))\n",
        " \n",
        "\n",
        "\n",
        "# Calculating Variance and Standard Deviation\n",
        "\n",
        "# Variance\n",
        "print(\"\\nVariance: \" , np.var(x))\n",
        "\n",
        "# Standard Deviation\n",
        "print(\"Standard Deviation: \" , np.std(x))\n",
        "\n",
        "df = pd.DataFrame({\" rating\": x, \"dummy\": size})\n",
        "\n",
        "f, (ax_box, ax_hist) = plt.subplots(2, sharex=True, gridspec_kw= {\"height_ratios\": (0.4, 2)})\n",
        "\n",
        "mean=df[' rating'].mean()\n",
        "median=df[' rating'].median()\n",
        "mode=df[' rating'].mode().values[0]\n",
        "\n",
        "sns.boxplot(data = df, x=\" rating\", ax=ax_box)\n",
        "ax_box.axvline(mean, color='r', linestyle='--')\n",
        "ax_box.axvline(median, color='g', linestyle='-')\n",
        "ax_box.axvline(mode, color='b', linestyle='-')\n",
        "\n",
        "sns.histplot(data = df, x=\" rating\", ax=ax_hist, kde=True)\n",
        "ax_hist.axvline(mean, color='r', linestyle='--', label=\"Mean\")\n",
        "ax_hist.axvline(median, color='g', linestyle='-', label=\"Median\")\n",
        "ax_hist.axvline(mode, color='b', linestyle='-', label=\"Mode\")\n",
        "\n",
        "plt.title(\"\\nMean, Median and Mode\")\n",
        "ax_hist.legend()\n",
        "\n",
        "ax_box.set(xlabel='')\n",
        "plt.show()\n",
        "\n",
        "df = pd.DataFrame({\n",
        "  'Data': x,\n",
        "  'Variance': [np.var(x) for i in range(size)],\n",
        "  'Standard Deviation': [np.std(x) for i in range(size)]})\n",
        "\n",
        "df.plot()\n",
        "plt.title(\"\\nVariance and Standard Deviation\")\n",
        "plt.show()"
      ],
      "metadata": {
        "colab": {
          "base_uri": "https://localhost:8080/",
          "height": 581
        },
        "id": "pVKTlMB-U1Zr",
        "outputId": "43bc0c16-c8c1-4dd4-9440-b214a9824fd2"
      },
      "execution_count": null,
      "outputs": [
        {
          "output_type": "stream",
          "name": "stdout",
          "text": [
            "No. of elements:  23\n",
            "Descending:  [350, 250, 154, 142, 125, 99, 95, 89, 80, 73, 69, 63, 60, 59, 57, 55, 48, 33, 30, 27, 15, 7, 5]\n",
            "\n",
            "Mean:  86.30434782608695\n",
            "Median:  63.0\n",
            "ModeResult(mode=array([5]), count=array([1]))\n",
            "\n",
            "Variance:  6046.646502835538\n",
            "Standard Deviation:  77.76018584619985\n"
          ]
        },
        {
          "output_type": "display_data",
          "data": {
            "text/plain": [
              "<Figure size 432x288 with 2 Axes>"
            ],
            "image/png": "[encoded data removed]"
          },
          "metadata": {
            "needs_background": "light"
          }
        },
        {
          "output_type": "display_data",
          "data": {
            "text/plain": [
              "<Figure size 432x288 with 1 Axes>"
            ],
            "image/png": "[encoded data removed]"
          },
          "metadata": {
            "needs_background": "light"
          }
        }
      ]
    },
    {
      "cell_type": "code",
      "source": [],
      "metadata": {
        "id": "CWdP_JQIL_yv"
      },
      "execution_count": null,
      "outputs": []
    },
    {
      "cell_type": "code",
      "source": [],
      "metadata": {
        "id": "b-UdCUvRMAlH"
      },
      "execution_count": null,
      "outputs": []
    }
  ]
}